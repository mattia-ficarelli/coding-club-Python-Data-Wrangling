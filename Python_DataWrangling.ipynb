{
  "nbformat": 4,
  "nbformat_minor": 0,
  "metadata": {
    "colab": {
      "name": "Python-DataWrangling.ipynb",
      "provenance": [],
      "collapsed_sections": [
        "oPcRaVUjjGME",
        "3MeTNz44O6B_"
      ],
      "toc_visible": true,
      "include_colab_link": true
    },
    "kernelspec": {
      "name": "python3",
      "display_name": "Python 3"
    },
    "language_info": {
      "name": "python"
    }
  },
  "cells": [
    {
      "cell_type": "markdown",
      "metadata": {
        "id": "view-in-github",
        "colab_type": "text"
      },
      "source": [
        "<a href=\"https://colab.research.google.com/github/nhs-pycom/coding-club-Python-Data-Wrangling/blob/main/Python_DataWrangling.ipynb\" target=\"_parent\"><img src=\"https://colab.research.google.com/assets/colab-badge.svg\" alt=\"Open In Colab\"/></a>"
      ]
    },
    {
      "cell_type": "markdown",
      "metadata": {
        "id": "4ZUaB0J-VIXK"
      },
      "source": [
        "#**The NHSX Analytics Unit introduction to Python Session 1** *\n",
        "\n",
        "**Note*: Content partially adapted from DataCamp Introduction to Python course."
      ]
    },
    {
      "cell_type": "markdown",
      "metadata": {
        "id": "0uF5AC0cOeVc"
      },
      "source": [
        "\n",
        "#**1.Using the 'print' command**:\n",
        " \n",
        "  The `print` statement is one of the simplest commands in Python."
      ]
    },
    {
      "cell_type": "code",
      "metadata": {
        "id": "3_OTv0cGPkGn"
      },
      "source": [
        "print(\"hello world\")"
      ],
      "execution_count": null,
      "outputs": []
    },
    {
      "cell_type": "markdown",
      "metadata": {
        "id": "mfSgNOUyPtl0"
      },
      "source": [
        "It does what you might expect, prints the words \"your text goes here\" verbatim onto the screen. We are going to be using `print` often as it is really useful to be able to spell out the results of our programme.\n",
        "\n",
        "The `print` function is also important for adding context to your analysis. For example, imagine we have developed some formula and the result python gives us is 26. But 26 what? 26 minutes, 26 people?\n",
        "\n",
        "Raw data from python is not always very informative on its own, so we need to add context and formatting to these results, to give readers a better understanding of the data.\n",
        "\n",
        "**Some things to watch out for:**\n",
        "1.   The `print `command has no capital letter.\n",
        "2.   The text in parentheses () is called a [string](https://https://docs.python.org/3/library/stdtypes.html#text-sequence-type-str) (i.e., a sequence of any characters such as letters, numbers and symbols).\n",
        "3. Strings need to be enclosed \"quotation marks\".\n",
        "These simple rules for code are called **the syntax**. This is important as incorrect syntax will result in broken code that won’t work (i.e., a syntax error). This is demonstrated below.\n",
        "\n",
        "**General note:** When writing a script use the '#' to add notes and annotate your script which python will ignore.\n",
        "\n",
        "Try running the python code in the cell below. You'll get some nasty looking red text with the word `SyntaxError`. Don't worry though, running into errors in your code happens all the time. Understanding errors and fixing them is integral to learning programming.\n",
        "\n",
        "This is typically how python programming works. You make a change to the code in the python file and then run the file to see what the results are. Make some changes, then run it again. Writing code is very iterative in this way, rather than more linear writing you might do for a report. You might end up running the python code hundreds of times to get it working just right. However, knowing how to deal with python code that is wrong is almost as important as getting the code right."
      ]
    },
    {
      "cell_type": "code",
      "metadata": {
        "id": "Kd4bVSqVQaVL"
      },
      "source": [
        "#Task 1: Run the code to generate a SyntaxError\n",
        "#Task 2: Fix the code below to be able to successfully output 'hello world'\n",
        "print(hello world"
      ],
      "execution_count": null,
      "outputs": []
    },
    {
      "cell_type": "code",
      "metadata": {
        "id": "Xsge3JikWAd8"
      },
      "source": [
        "#Task 3: use the print command to output your name\n"
      ],
      "execution_count": null,
      "outputs": []
    },
    {
      "cell_type": "markdown",
      "metadata": {
        "id": "NZTFAC7FYf4I"
      },
      "source": [
        "**Real-World Application:**\n",
        "The print statement can be useful for adding context to your analysis. For example, imagine the results of a calculation gives 0.26, this is not very informative on its own. Instead, we can add text (in the form of a python string) and format these results to give readers a better understanding of the data:\n"
      ]
    },
    {
      "cell_type": "code",
      "metadata": {
        "id": "tHtCoUAxZkNY"
      },
      "source": [
        "print(\"26% of the GP registred population has received the COVID-19 vaccine\")"
      ],
      "execution_count": null,
      "outputs": []
    },
    {
      "cell_type": "markdown",
      "metadata": {
        "id": "Ts43cuXVU9qa"
      },
      "source": [
        "# **2. Python as a calculator:**\n",
        "\n",
        "Python is perfectly suited to do basic calculations. Apart from addition, subtraction, multiplication and division, there is also support for more advanced operations. The `print` command can be used to carry out basic calculations.\n"
      ]
    },
    {
      "cell_type": "code",
      "metadata": {
        "id": "5w85351xaZ7N"
      },
      "source": [
        "# Addition, subtraction, multiplication and division\n",
        "print(5 + 33)\n",
        "print(5 - 5)\n",
        "print(3 * 5)\n",
        "print(10 / 2)"
      ],
      "execution_count": null,
      "outputs": []
    },
    {
      "cell_type": "markdown",
      "metadata": {
        "id": "zSjj9Vnma44P"
      },
      "source": [
        "**More advanced operations:**\n",
        "1.   Exponentiation: `**`. This operator raises the number to its left to the power of the number to its right.\n",
        "2. Floor Division (also called Integer Division): `//`. This operator divides the numerator by the denominator and rounds the answer to the next smallest whole number (integer).\n",
        "3.   Modulo: `%`. This operator returns the remainder of the division of the number to the left by the number on its right. For example `18 % 7` equals `4`.\n",
        "**Watch out:** Remember `% `is the modulo function and **NOT** divison. Use `/` to divide numbers in python"
      ]
    },
    {
      "cell_type": "code",
      "metadata": {
        "id": "AiUiqgUwcJrx"
      },
      "source": [
        "#Exponentiation and modulo\n",
        "print(2 ** 5)\n",
        "print(10 // 3)\n",
        "print(25 % 4)"
      ],
      "execution_count": null,
      "outputs": []
    },
    {
      "cell_type": "code",
      "metadata": {
        "id": "-F-KP21KcyCI"
      },
      "source": [
        "#Task 4:Suppose you have £100, which you invest in a magicial savings account with a 10% return each year. After 1 year you would have £110. Write a python code to calculate how much money you end up with after 17 years, and print the result.\n"
      ],
      "execution_count": null,
      "outputs": []
    },
    {
      "cell_type": "code",
      "metadata": {
        "id": "Trq1IgLCkMYF"
      },
      "source": [
        "#Task 5: Use python to calculate what 213334 divided by 55 is, rounded to the next smallest whole number."
      ],
      "execution_count": null,
      "outputs": []
    },
    {
      "cell_type": "markdown",
      "metadata": {
        "id": "jIG80ByweVrQ"
      },
      "source": [
        "**Summary:**The standard arithmetic operators you might find on a calculator are represented in python as follows:\n",
        "\n",
        "|Operator |Example |Name |Result |\n",
        "|-|-|-|-|\n",
        "|`+`|`2 + 3`|Addition |Sum of `2` and `3` |\n",
        "|`-`|`2 - 3`|Subtraction|Subtract `3` from `a` |\n",
        "|`*`|`2 * 3`|Multiplication|Multiply `2` by `3`|\n",
        "|`/`|`2 / 3`|Division |Divide `2` by `3`|\n",
        "|`//`|`2 // 3`|Floor Division (also called Integer Division)|Divide `2` by `3`, rounded to the next smallest whole number (integer)|\n",
        "|`%`|`2 % 3`|Modulo|Remainder when `2` is divided by `3`|\n",
        "|`**`|`2 ** 3`|Exponentiation|Raise `2` to the power of `3`|\n",
        "\n",
        "Note that the spacing between operators is optional, however it does tend to make things easier to read."
      ]
    },
    {
      "cell_type": "markdown",
      "metadata": {
        "id": "oPcRaVUjjGME"
      },
      "source": [
        "# **3. Variables in Python:** \n",
        "Python is a great calculator, however if you want to do more complex calculations though, you will want to \"save\" values while you're coding along. You can do this by defining a variable, with a specific, case-sensitive name. Once you create (or declare) such a variable, you can later call up its value by typing the variable name.\n"
      ]
    },
    {
      "cell_type": "markdown",
      "metadata": {
        "id": "NDtwQjXbvVIe"
      },
      "source": [
        "**Variable assignment:** In Python, a variable allows you to refer to a value with a name. To create a variable use `=`, like this example: `x = 5`.\n",
        "\n",
        "You can now use the name of this variable, `x`, instead of the actual value, `5` in your python script. \n",
        "\n",
        "**Watch out:** `=` in Python means assignment, it does **NOT** test equality!"
      ]
    },
    {
      "cell_type": "code",
      "metadata": {
        "id": "Og-VVKHcwBOl"
      },
      "source": [
        "#First create your variable then use the print function to check the variable assignment. \n",
        "x = 5\n",
        "print(x)"
      ],
      "execution_count": null,
      "outputs": []
    },
    {
      "cell_type": "code",
      "metadata": {
        "id": "7uCe_C0yw4pm"
      },
      "source": [
        "#Task 6: Create a variable savings with the value 100. Check the variable assignment using the print command\n"
      ],
      "execution_count": null,
      "outputs": []
    },
    {
      "cell_type": "markdown",
      "metadata": {
        "id": "9RnyDC-CGVuJ"
      },
      "source": [
        "Remember how you calculated the money you ended up with after 17 years of investing $100? You did something like this:\n",
        "\n",
        "`100 * 1.1 ** 7`\n",
        "\n",
        "Instead of calculating with the actual values, you can use variables instead. The `savings` variable you've created in the previous exercise represents the $100 you started with. It's up to you to create a new variable to represent `1.1 `and then redo the calculation!"
      ]
    },
    {
      "cell_type": "code",
      "metadata": {
        "id": "h8UoJrHEG0DV"
      },
      "source": [
        "#Task 7: \n",
        "#A. Create a variable growth_multiplier, equal to 1.1.\n",
        "#B. Create a variable, result, equal to the amount of money you saved after 17 years.\n",
        "#C. Print out the value of result."
      ],
      "execution_count": null,
      "outputs": []
    },
    {
      "cell_type": "markdown",
      "metadata": {
        "id": "nQfzXJ2qIAAy"
      },
      "source": [
        "A variable can be named (almost) whatever you like, however there are standard naming conventions that are good to follow:\n",
        "\n",
        "Imagine you want to define the length of a side of a rectangle\n",
        "\n",
        "```\n",
        "l             # A poor choice – it has no meaning\n",
        "length        # Okay but a bit vague\n",
        "sideLength    # Better - However, mix of capital letters\n",
        "side length   # Wrong –  we can't use spaces\n",
        "side_length   # Good\n",
        "```"
      ]
    },
    {
      "cell_type": "markdown",
      "metadata": {
        "id": "ZUMO70r0JQpK"
      },
      "source": [
        "Certain words have been reserved for a specific purpose in the python syntax. These are called `keywords` and can’t be used as aliases for your variables. Running the cell below will show a list of the `keywords` in python3. You don't have to memorise them all right now, but be aware that you will get a syntax error if you try using them as a variable name."
      ]
    },
    {
      "cell_type": "code",
      "metadata": {
        "id": "S-jV-H47JwIO"
      },
      "source": [
        "#From the library 'keyword' import and print the keyword list `kwlist`\n",
        "import keyword\n",
        "print(keyword.kwlist)"
      ],
      "execution_count": null,
      "outputs": []
    },
    {
      "cell_type": "markdown",
      "metadata": {
        "id": "JPAEM-YcJ6Kn"
      },
      "source": [
        "When defining variables while writing python script always good to check that you are not using a `keyword ` by running the above script. "
      ]
    },
    {
      "cell_type": "markdown",
      "metadata": {
        "id": "aXpsBWOyKTz5"
      },
      "source": [
        "**Real-World Application:**\n",
        "Being able to store, edit, and recall information using a simple alias is a very useful tool that makes data manipulation faster to code and easier to understand. While you can give a name to a specific range of cells in excel (an underutilised feature), calculations are still done on a cell-by-cell basis; making adjustments time consuming and finding errors particularly difficult.\n",
        "\n",
        "**Have a go:**\n",
        "In addition to numbers, as in the above example, text can also be assigned as a variable. To trial this we are going to have a go at entering our names as a variable. In the cells below, follow the instructions written in the comments."
      ]
    },
    {
      "cell_type": "code",
      "metadata": {
        "id": "PmQXYHzmL2p5"
      },
      "source": [
        "#Task 8: Add your first name in between the \"quotation marks\" (Gold star: why do we need to use quotation marks in this case?)\n",
        "#Assign your name to the variable 'first_name' and then print it\n",
        "first_name = \"\"\n",
        "print(first_name)\n"
      ],
      "execution_count": null,
      "outputs": []
    },
    {
      "cell_type": "markdown",
      "metadata": {
        "id": "dvFH1ZmMMHKn"
      },
      "source": [
        "As done before we 'call' a variable by simply tyiping it in. Note that variable names are **NOT** in \"quotation marks\""
      ]
    },
    {
      "cell_type": "code",
      "metadata": {
        "id": "HiambecyNOEg"
      },
      "source": [
        "#Task 9: Add your last name in between the \"quotation marks\"\n",
        "last_name = \"\""
      ],
      "execution_count": null,
      "outputs": []
    },
    {
      "cell_type": "markdown",
      "metadata": {
        "id": "PfcBvPnpNclG"
      },
      "source": [
        "In python we can 'add' (or concatenate) two strings together using the `+` symbol just like in maths"
      ]
    },
    {
      "cell_type": "code",
      "metadata": {
        "id": "MTyVZOrhNioW"
      },
      "source": [
        "#Task 10: Concatenate your first and last names to print your full name using \"+\""
      ],
      "execution_count": null,
      "outputs": []
    },
    {
      "cell_type": "markdown",
      "metadata": {
        "id": "ucSVfvuYN9Xw"
      },
      "source": [
        "Sadly, That does not like right. We also need to space between the names. This can be done by adding an empty string between your first and last name."
      ]
    },
    {
      "cell_type": "code",
      "metadata": {
        "id": "La7_lJ6GOIXO"
      },
      "source": [
        "#Task 11: Concatenate your first and last names, with an empty string in the middle to print your full name in the correct format. Could someone tell me how to do this?\n"
      ],
      "execution_count": null,
      "outputs": []
    },
    {
      "cell_type": "markdown",
      "metadata": {
        "id": "3MeTNz44O6B_"
      },
      "source": [
        "# **4. Data types in Python**:\n",
        "\n",
        "In the previous exercises you worked with multiple python data types. Understanding python data types are critical to using the language effectively."
      ]
    },
    {
      "cell_type": "markdown",
      "metadata": {
        "id": "JWjS-Z-yQ4G9"
      },
      "source": [
        "**Key numerical data types**:\n",
        "\n",
        "1.   `int`, or integer: a number **wihtout** a fractional part. The variable `savings`, with the value 100, we defined earlier is an example of an integer.\n",
        "2.   `float`, or floating point: a number that has **both** an integer and fractional part, separated by a point. The variable `growth_multiplier`which we defined earlier, with the value 1.1, is an example of a float.\n",
        "\n",
        "**Key non-numerical data types**:\n",
        "\n",
        "1.   `str`, or string: a type to represent text. You can use single or double quotes to build a string.\n",
        "2.   `bool`, or boolean: a type to represent logical values. Can **only** be True or False **(the capitalization is important!)**.\n"
      ]
    },
    {
      "cell_type": "code",
      "metadata": {
        "id": "Cnw36PywSTbd"
      },
      "source": [
        "#Task 12: Create a new string, desc, with the value compound interest."
      ],
      "execution_count": null,
      "outputs": []
    },
    {
      "cell_type": "code",
      "metadata": {
        "id": "M05V0ndtTCsz"
      },
      "source": [
        "#Task 13: Create a new boolean, profitable, with the value True.\n"
      ],
      "execution_count": null,
      "outputs": []
    },
    {
      "cell_type": "markdown",
      "metadata": {
        "id": "VylKgqTvTZ21"
      },
      "source": [
        "**Note:** A boolean does not require quotation marks around the `True` or `False`"
      ]
    },
    {
      "cell_type": "markdown",
      "metadata": {
        "id": "o7x8Q-elT3RD"
      },
      "source": [
        "To find out the **type** of a value or a variable that refers to that value, you can use the `type() `function. Suppose you've defined a variable `a`, but you forgot the type of this variable. To determine the type of `a`, simply execute:\n",
        "\n",
        "`type(a)`"
      ]
    },
    {
      "cell_type": "code",
      "metadata": {
        "id": "U3elxAFFUHcT"
      },
      "source": [
        "#Task 14: Create and define new variable which is either a integer, float, string, or boolean and use the type function to define which python data type it is. "
      ],
      "execution_count": null,
      "outputs": []
    },
    {
      "cell_type": "markdown",
      "metadata": {
        "id": "NDfLUNl6UyUr"
      },
      "source": [
        "Different data types behave *differently* in Python. When you sum two strings, for example, you'll get different behavior than when you sum two integers."
      ]
    },
    {
      "cell_type": "code",
      "metadata": {
        "id": "Im03BE5FhX9-"
      },
      "source": [
        "#Task 15A: Lets explore how different data types behave in Python; intergers\n",
        "#A. Add and multiply two integers\n",
        "print(5+6)\n",
        "print(7*8)"
      ],
      "execution_count": null,
      "outputs": []
    },
    {
      "cell_type": "code",
      "metadata": {
        "id": "2fcXWNbPiSKu"
      },
      "source": [
        "#Task 15B: Lets explore how different data types behave in Python; floats\n",
        "#B. Add and multiply two floats\n",
        "print(5.4+6.7)\n",
        "print(7.3+5.6)"
      ],
      "execution_count": null,
      "outputs": []
    },
    {
      "cell_type": "code",
      "metadata": {
        "id": "u9Xo-gCDjfwO"
      },
      "source": [
        "#Task 15C: Lets explore how different data types behave in Python; floats and integers\n",
        "#C. Add and multiply a float and an integer\n",
        "print(5+5.4)\n",
        "print(7*7.3)"
      ],
      "execution_count": null,
      "outputs": []
    },
    {
      "cell_type": "code",
      "metadata": {
        "id": "75Kd2tSaj2us"
      },
      "source": [
        "#Task 15D: Lets explore how different data types behave in Python; strings\n",
        "#D. Add and multiply two strings\n",
        "A = \"coding\"\n",
        "B = \"cool\"\n",
        "\n",
        "print(A+B)\n",
        "print(A*B)"
      ],
      "execution_count": null,
      "outputs": []
    },
    {
      "cell_type": "markdown",
      "metadata": {
        "id": "SY7oHDiNkbPz"
      },
      "source": [
        "**Note:** You can add two `strings`, but you *cannot* subtract, divide or multiply `strings`"
      ]
    },
    {
      "cell_type": "code",
      "metadata": {
        "id": "6fjdC0Haknyc"
      },
      "source": [
        "#Task 15E: Lets explore how different data types behave in Python; strings and integers\n",
        "#E. Add and multiply a string and an integer\n",
        "\n",
        "print(5 * A)\n",
        "print(5 + A)"
      ],
      "execution_count": null,
      "outputs": []
    },
    {
      "cell_type": "markdown",
      "metadata": {
        "id": "1a9t9hi4lCem"
      },
      "source": [
        "**Note:** You *cannot* add, subtract, or divide `strings` and `integers` (or `floats`), but you *can* multiply a `string` and an `integer` (but not a `string` and a `float`)."
      ]
    }
  ]
}